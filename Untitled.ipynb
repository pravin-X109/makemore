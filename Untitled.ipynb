{
 "cells": [
  {
   "cell_type": "code",
   "execution_count": 1,
   "id": "5add3a82-e3e4-4cab-9c8b-a0a37a3b2804",
   "metadata": {},
   "outputs": [],
   "source": [
    "# E01: train a trigram language model, i.e. take two characters as an input to predict the 3rd one. Feel free to use either counting or a neural net. Evaluate the loss; Did it improve over a bigram model?"
   ]
  },
  {
   "cell_type": "markdown",
   "id": "b3750431-2758-4b78-a222-361f1d692622",
   "metadata": {},
   "source": [
    "# Downloads names.txt from Andres github"
   ]
  },
  {
   "cell_type": "code",
   "execution_count": 2,
   "id": "87fcca5e-c7ae-459c-bc27-1b705ff5fc6b",
   "metadata": {},
   "outputs": [
    {
     "name": "stdout",
     "output_type": "stream",
     "text": [
      "--2024-07-30 11:09:46--  https://raw.githubusercontent.com/karpathy/makemore/master/names.txt\n",
      "Resolving raw.githubusercontent.com (raw.githubusercontent.com)... 185.199.109.133, 185.199.111.133, 185.199.110.133, ...\n",
      "Connecting to raw.githubusercontent.com (raw.githubusercontent.com)|185.199.109.133|:443... connected.\n",
      "HTTP request sent, awaiting response... 200 OK\n",
      "Length: 228145 (223K) [text/plain]\n",
      "Saving to: ‘names.txt.5’\n",
      "\n",
      "names.txt.5         100%[===================>] 222.80K  --.-KB/s    in 0.04s   \n",
      "\n",
      "2024-07-30 11:09:46 (5.40 MB/s) - ‘names.txt.5’ saved [228145/228145]\n",
      "\n"
     ]
    }
   ],
   "source": [
    "!wget https://raw.githubusercontent.com/karpathy/makemore/master/names.txt"
   ]
  },
  {
   "cell_type": "code",
   "execution_count": 3,
   "id": "b6626d5e-c53c-4eb1-bfa4-a122f59bea3b",
   "metadata": {},
   "outputs": [],
   "source": [
    "words = open('names.txt', 'r').read().lower().strip().splitlines()"
   ]
  },
  {
   "cell_type": "code",
   "execution_count": 4,
   "id": "182d803f-d8c9-4939-b177-e0888f4b46bb",
   "metadata": {},
   "outputs": [
    {
     "data": {
      "text/plain": [
       "32033"
      ]
     },
     "execution_count": 4,
     "metadata": {},
     "output_type": "execute_result"
    }
   ],
   "source": [
    "len(words)"
   ]
  },
  {
   "cell_type": "code",
   "execution_count": 5,
   "id": "ef21f818-24cb-4d62-932e-c92258a7dd3f",
   "metadata": {},
   "outputs": [
    {
     "data": {
      "text/plain": [
       "2"
      ]
     },
     "execution_count": 5,
     "metadata": {},
     "output_type": "execute_result"
    }
   ],
   "source": [
    "min(len(w) for w in words)"
   ]
  },
  {
   "cell_type": "code",
   "execution_count": 6,
   "id": "c80cc7a8-9c80-4627-851a-63b5a6777f00",
   "metadata": {},
   "outputs": [
    {
     "data": {
      "text/plain": [
       "15"
      ]
     },
     "execution_count": 6,
     "metadata": {},
     "output_type": "execute_result"
    }
   ],
   "source": [
    "max(len(w) for w in words)"
   ]
  },
  {
   "cell_type": "code",
   "execution_count": 7,
   "id": "77911c44-a67b-4075-9f0e-b29d6b04b929",
   "metadata": {},
   "outputs": [],
   "source": [
    "trigram_counts = {}\n",
    "for w in words:\n",
    "    chs = \".\" + w + \".\"\n",
    "    for ch1, ch2, ch3 in zip(chs, chs[1:], chs[2:]):\n",
    "        trigram = (ch1, ch2, ch3)\n",
    "        trigram_counts[trigram] = trigram_counts.get(trigram, 0) + 1\n",
    "\n",
    "\n",
    "sort = sorted(trigram_counts.items(), key = lambda item: -item[1])"
   ]
  },
  {
   "cell_type": "code",
   "execution_count": 11,
   "id": "bda4fa12-db4c-444d-8c40-a92927bf86e1",
   "metadata": {},
   "outputs": [],
   "source": [
    "chars = sorted(set(''.join(words)))\n",
    "\n",
    "itoc = {i+1:char for i, char in enumerate(chars)}\n",
    "itoc[0] = '.'\n",
    "ctoi = {char:i for i, char in itoc.items()}"
   ]
  },
  {
   "cell_type": "code",
   "execution_count": null,
   "id": "8408a29b-6587-4e7f-99f2-3a37cf81ddf0",
   "metadata": {},
   "outputs": [],
   "source": []
  },
  {
   "cell_type": "code",
   "execution_count": 12,
   "id": "e15cdf3b-98a6-47b2-8b22-e99386ce29bd",
   "metadata": {},
   "outputs": [
    {
     "data": {
      "text/plain": [
       "{1: 'a',\n",
       " 2: 'b',\n",
       " 3: 'c',\n",
       " 4: 'd',\n",
       " 5: 'e',\n",
       " 6: 'f',\n",
       " 7: 'g',\n",
       " 8: 'h',\n",
       " 9: 'i',\n",
       " 10: 'j',\n",
       " 11: 'k',\n",
       " 12: 'l',\n",
       " 13: 'm',\n",
       " 14: 'n',\n",
       " 15: 'o',\n",
       " 16: 'p',\n",
       " 17: 'q',\n",
       " 18: 'r',\n",
       " 19: 's',\n",
       " 20: 't',\n",
       " 21: 'u',\n",
       " 22: 'v',\n",
       " 23: 'w',\n",
       " 24: 'x',\n",
       " 25: 'y',\n",
       " 26: 'z',\n",
       " 0: '.'}"
      ]
     },
     "execution_count": 12,
     "metadata": {},
     "output_type": "execute_result"
    }
   ],
   "source": [
    "itoc"
   ]
  },
  {
   "cell_type": "code",
   "execution_count": 13,
   "id": "3857316d-16b2-4ebf-a854-7aa51e2c7a3e",
   "metadata": {},
   "outputs": [
    {
     "data": {
      "text/plain": [
       "{'a': 1,\n",
       " 'b': 2,\n",
       " 'c': 3,\n",
       " 'd': 4,\n",
       " 'e': 5,\n",
       " 'f': 6,\n",
       " 'g': 7,\n",
       " 'h': 8,\n",
       " 'i': 9,\n",
       " 'j': 10,\n",
       " 'k': 11,\n",
       " 'l': 12,\n",
       " 'm': 13,\n",
       " 'n': 14,\n",
       " 'o': 15,\n",
       " 'p': 16,\n",
       " 'q': 17,\n",
       " 'r': 18,\n",
       " 's': 19,\n",
       " 't': 20,\n",
       " 'u': 21,\n",
       " 'v': 22,\n",
       " 'w': 23,\n",
       " 'x': 24,\n",
       " 'y': 25,\n",
       " 'z': 26,\n",
       " '.': 0}"
      ]
     },
     "execution_count": 13,
     "metadata": {},
     "output_type": "execute_result"
    }
   ],
   "source": [
    "ctoi"
   ]
  },
  {
   "cell_type": "code",
   "execution_count": null,
   "id": "40beabb0-4fd4-4a35-84fb-83a163a6a6aa",
   "metadata": {},
   "outputs": [],
   "source": [
    "!poetry add seaborn "
   ]
  }
 ],
 "metadata": {
  "kernelspec": {
   "display_name": "Python 3 (ipykernel)",
   "language": "python",
   "name": "python3"
  },
  "language_info": {
   "codemirror_mode": {
    "name": "ipython",
    "version": 3
   },
   "file_extension": ".py",
   "mimetype": "text/x-python",
   "name": "python",
   "nbconvert_exporter": "python",
   "pygments_lexer": "ipython3",
   "version": "3.11.2"
  }
 },
 "nbformat": 4,
 "nbformat_minor": 5
}
